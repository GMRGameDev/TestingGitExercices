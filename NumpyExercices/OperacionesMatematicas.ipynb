{
 "cells": [
  {
   "cell_type": "markdown",
   "metadata": {},
   "source": [
    "Ejercicios sobre operaciones matematicas y trigonométricas: raiz cuadrada, exponente y logaritmo"
   ]
  },
  {
   "cell_type": "code",
   "execution_count": 3,
   "metadata": {},
   "outputs": [
    {
     "name": "stdout",
     "output_type": "stream",
     "text": [
      "Array sin transformar:  [       1       10      100     1000    10000   100000 10000000] \n",
      "Array transformado:  [1.00000000e+00 3.16227766e+00 1.00000000e+01 3.16227766e+01\n",
      " 1.00000000e+02 3.16227766e+02 3.16227766e+03]\n"
     ]
    }
   ],
   "source": [
    "#Ejercicio 12\n",
    "\n",
    "import numpy as np\n",
    "\n",
    "array = np.array([1,10,100,1000,10000,100000,10000000])\n",
    "\n",
    "arrayTransformado = np.sqrt(array)\n",
    "\n",
    "print(\"Array sin transformar: \", array, \"\\nArray transformado: \", arrayTransformado)"
   ]
  },
  {
   "cell_type": "code",
   "execution_count": 7,
   "metadata": {},
   "outputs": [
    {
     "name": "stdout",
     "output_type": "stream",
     "text": [
      "0.9146948489341498\n",
      "0.9146948489341498\n"
     ]
    }
   ],
   "source": [
    "#Ejercicio 13\n",
    "\n",
    "from sklearn.metrics import root_mean_squared_error\n",
    "\n",
    "valoresReales = np.array([3, 5, 8, 15, 30, 35])\n",
    "valoresPredichos = np.array([2.5, 5.6, 10.0, 14.8, 30.6, 35.1])\n",
    "\n",
    "errores= (valoresReales - valoresPredichos) **2\n",
    "\n",
    "mse = np.mean(errores)\n",
    "\n",
    "rmse = np.sqrt(mse)\n",
    "\n",
    "print (rmse)\n",
    "\n",
    "rmseSk = root_mean_squared_error(valoresReales, valoresPredichos)\n",
    "\n",
    "print(rmseSk)"
   ]
  },
  {
   "cell_type": "code",
   "execution_count": null,
   "metadata": {},
   "outputs": [],
   "source": [
    "#Ejercicio 14\n",
    "\n"
   ]
  }
 ],
 "metadata": {
  "kernelspec": {
   "display_name": ".venv",
   "language": "python",
   "name": "python3"
  },
  "language_info": {
   "codemirror_mode": {
    "name": "ipython",
    "version": 3
   },
   "file_extension": ".py",
   "mimetype": "text/x-python",
   "name": "python",
   "nbconvert_exporter": "python",
   "pygments_lexer": "ipython3",
   "version": "3.12.1"
  }
 },
 "nbformat": 4,
 "nbformat_minor": 2
}
