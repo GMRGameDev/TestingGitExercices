{
 "cells": [
  {
   "cell_type": "markdown",
   "id": "3a24c280",
   "metadata": {},
   "source": [
    "Ejercicios de repaso sobre creación de arrays de multiples dimensiones usando la libreria Numpy."
   ]
  }
 ],
 "metadata": {
  "kernelspec": {
   "display_name": ".venv",
   "language": "python",
   "name": "python3"
  },
  "language_info": {
   "name": "python",
   "version": "3.12.1"
  }
 },
 "nbformat": 4,
 "nbformat_minor": 5
}
