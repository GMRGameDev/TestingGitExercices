{
 "cells": [
  {
   "cell_type": "markdown",
   "metadata": {},
   "source": [
    "Algebra"
   ]
  },
  {
   "cell_type": "code",
   "execution_count": 3,
   "metadata": {},
   "outputs": [
    {
     "name": "stdout",
     "output_type": "stream",
     "text": [
      "[[[8 1 8]]]\n"
     ]
    }
   ],
   "source": [
    "import numpy as np\n",
    "\n",
    "vector1 = np.random.randint(0, 10, size = (1,1,3), dtype=np.uint8)\n",
    "print(vector1)\n",
    "\n",
    "#vector1.dot()\n",
    "#vector1.cross()"
   ]
  },
  {
   "cell_type": "code",
   "execution_count": 4,
   "metadata": {},
   "outputs": [
    {
     "name": "stdout",
     "output_type": "stream",
     "text": [
      "Distancia desde el origen vector2:  18.708286933869708 \n",
      "Distancia desde el origen vector3:  374.16573867739413\n",
      "Distancia euclidiana entre los vectores, usando formula normal:  355.4574517435244 \n",
      "Usando funcion norm:  355.4574517435244\n"
     ]
    }
   ],
   "source": [
    "# Distancia del 5 al 20 dando un salto de 5\n",
    "# Distancia del 100 al 400 dando un salto de 100\n",
    "\n",
    "vector2 = np.arange(5, 20, 5)\n",
    "vector3 = np.arange(100, 400, 100)\n",
    "\n",
    "distanciaOrigen1 = np.sqrt(np.sum(vector2 **2))\n",
    "distanciaOrigen2 = np.sqrt(np.sum(vector3 **2))\n",
    "\n",
    "print(\"Distancia desde el origen vector2: \", distanciaOrigen1, \"\\nDistancia desde el origen vector3: \", distanciaOrigen2)\n",
    "\n",
    "distanciaEntreVectoresRaiz = np.sqrt(np.sum((vector2 - vector3)**2))\n",
    "distanciaEntreVectoresNorm = np.linalg.norm(vector2 - vector3)\n",
    "\n",
    "print(\"Distancia euclidiana entre los vectores, usando formula normal: \",distanciaEntreVectoresRaiz, \"\\nUsando funcion norm: \", distanciaEntreVectoresNorm)"
   ]
  },
  {
   "cell_type": "code",
   "execution_count": 15,
   "metadata": {},
   "outputs": [
    {
     "name": "stdout",
     "output_type": "stream",
     "text": [
      "Rendimiento por asignatura:  [[560.86986013 545.80032979 551.05807316 552.24632185 534.66905652\n",
      "  549.20032775 534.83455386 529.10395954 528.89129318 549.85179821]]\n",
      "Rendimiento por estudiante:  [235.98516903 231.79301111 246.02032436 243.73756379 227.02643018\n",
      " 247.06679259 226.08626672 242.8147442  246.27829787 244.45040397\n",
      " 246.81166909 250.09598158 238.03991262 226.0398195  244.64055265\n",
      " 244.44426768 235.94490882 247.03441056 236.88182708 256.18547968\n",
      " 247.72161795 254.58593834 242.72412323 249.45540684 247.95765768\n",
      " 223.57996332 253.42454498 233.13515393 245.56261931 249.8559585\n",
      " 247.45100525 240.72390824 257.42571744 255.286114   250.79473679\n",
      " 245.875985   244.90202122 245.29370151 262.27275878 257.62375667\n",
      " 260.18262817 261.52437745 247.09512338 248.32438463 246.83597793\n",
      " 237.91805312 257.51893134 239.85203772 255.78311125]\n"
     ]
    }
   ],
   "source": [
    "#Evaluación rendimiento calificación estudiantes usando Norma L2 (Distancia Euclidiana)\n",
    "\n",
    "#Datos de entrada\n",
    "calificaciones = np.array([\n",
    "    [88, 78, 64, 92, 57, 70, 88, 68, 72, 60],\n",
    "    [60, 73, 85, 89, 73, 52, 71, 51, 73, 93],\n",
    "    [79, 87, 51, 70, 82, 61, 71, 93, 74, 98],\n",
    "    [76, 91, 77, 65, 64, 96, 93, 52, 86, 56],\n",
    "    [70, 58, 88, 67, 53, 74, 63, 99, 58, 75],\n",
    "    [82, 79, 91, 88, 66, 78, 79, 63, 59, 89],\n",
    "    [56, 66, 73, 77, 75, 80, 70, 64, 88, 60],\n",
    "    [80, 62, 79, 85, 92, 72, 80, 69, 78, 66],\n",
    "    [88, 90, 69, 77, 66, 72, 65, 73, 92, 81],\n",
    "    [60, 80, 69, 94, 81, 88, 93, 60, 58, 79],\n",
    "    [78, 72, 74, 81, 67, 93, 60, 72, 85, 92],\n",
    "    [86, 90, 70, 64, 93, 58, 61, 95, 79, 84],\n",
    "    [85, 77, 91, 85, 61, 63, 58, 68, 65, 90],\n",
    "    [71, 79, 69, 58, 75, 78, 62, 82, 77, 59],\n",
    "    [87, 76, 72, 68, 88, 65, 75, 90, 69, 79],\n",
    "    [78, 71, 94, 67, 72, 88, 58, 79, 91, 67],\n",
    "    [67, 64, 85, 81, 70, 84, 79, 73, 62, 77],\n",
    "    [90, 61, 60, 91, 72, 89, 77, 75, 76, 83],\n",
    "    [94, 83, 80, 59, 65, 75, 63, 92, 68, 60],\n",
    "    [80, 81, 68, 95, 72, 93, 89, 59, 81, 85],\n",
    "    [88, 63, 90, 77, 69, 72, 85, 78, 61, 93],\n",
    "    [91, 65, 79, 92, 63, 74, 87, 70, 92, 85],\n",
    "    [92, 80, 76, 72, 81, 87, 64, 74, 70, 67],\n",
    "    [72, 83, 91, 58, 67, 88, 81, 76, 74, 92],\n",
    "    [84, 91, 81, 77, 80, 63, 70, 79, 89, 65],\n",
    "    [66, 65, 77, 58, 79, 61, 86, 72, 64, 74],\n",
    "    [94, 74, 83, 89, 77, 68, 81, 92, 70, 68],\n",
    "    [73, 72, 82, 80, 79, 64, 69, 60, 76, 79],\n",
    "    [82, 79, 75, 89, 85, 81, 62, 64, 60, 92],\n",
    "    [87, 88, 80, 74, 85, 90, 75, 68, 68, 71],\n",
    "    [81, 79, 85, 76, 64, 85, 71, 77, 67, 93],\n",
    "    [82, 89, 77, 72, 66, 84, 92, 60, 67, 65],\n",
    "    [90, 63, 94, 67, 88, 93, 79, 64, 88, 80],\n",
    "    [81, 90, 72, 76, 74, 93, 88, 84, 80, 65],\n",
    "    [86, 75, 67, 81, 93, 79, 91, 64, 78, 74],\n",
    "    [69, 85, 90, 91, 60, 76, 84, 78, 74, 64],\n",
    "    [67, 91, 94, 78, 81, 73, 62, 67, 60, 92],\n",
    "    [85, 79, 73, 60, 85, 90, 82, 75, 74, 68],\n",
    "    [91, 83, 77, 92, 74, 68, 64, 92, 90, 92],\n",
    "    [65, 93, 88, 82, 92, 67, 79, 68, 81, 93],\n",
    "    [92, 79, 90, 92, 72, 80, 61, 75, 86, 90],\n",
    "    [80, 67, 76, 84, 92, 90, 79, 93, 74, 88],\n",
    "    [60, 79, 90, 93, 64, 61, 85, 76, 92, 72],\n",
    "    [88, 67, 72, 64, 80, 90, 79, 75, 85, 81],\n",
    "    [79, 92, 75, 72, 92, 81, 79, 70, 68, 68],\n",
    "    [65, 60, 79, 89, 79, 82, 86, 64, 60, 81],\n",
    "    [92, 81, 60, 79, 94, 78, 80, 91, 85, 68],\n",
    "    [79, 64, 81, 72, 68, 75, 80, 94, 79, 61],\n",
    "    [79, 94, 64, 89, 80, 85, 74, 82, 65, 91]\n",
    "])\n",
    "\n",
    "rendimientoAsignatura = np.linalg.norm(calificaciones, axis=0, keepdims=True)\n",
    "rendimientoEstudiante = np.linalg.norm(calificaciones, axis=1)\n",
    "\n",
    "print(\"Rendimiento por asignatura: \", rendimientoAsignatura)\n",
    "print(\"Rendimiento por estudiante: \", rendimientoEstudiante)\n",
    "\n",
    "#vectorNormalizado = calificaciones / np.linalg.norm(calificaciones)\n",
    "#print(vectorNormalizado) \n",
    "\n",
    "#for i in calificaciones:\n",
    "#    rendimientoEstudiante = np.linalg.norm(i)\n",
    "#    for x in i:\n",
    "#        rendimiento = np.linalg.norm(x)\n",
    "#        print(\"El rendimiento por asignatura será: \\n\", rendimiento)"
   ]
  },
  {
   "cell_type": "code",
   "execution_count": null,
   "metadata": {},
   "outputs": [],
   "source": []
  }
 ],
 "metadata": {
  "kernelspec": {
   "display_name": ".venv",
   "language": "python",
   "name": "python3"
  },
  "language_info": {
   "codemirror_mode": {
    "name": "ipython",
    "version": 3
   },
   "file_extension": ".py",
   "mimetype": "text/x-python",
   "name": "python",
   "nbconvert_exporter": "python",
   "pygments_lexer": "ipython3",
   "version": "3.12.1"
  }
 },
 "nbformat": 4,
 "nbformat_minor": 2
}
